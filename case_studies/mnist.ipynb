{
 "cells": [
  {
   "cell_type": "code",
   "execution_count": 1,
   "metadata": {},
   "outputs": [],
   "source": [
    "import numpy as np\n",
    "import pandas as pd\n",
    "import matplotlib.pyplot as plt\n",
    "\n",
    "from sklearn.datasets import fetch_openml\n",
    "from sklearn.preprocessing import scale\n",
    "\n",
    "from ulca.ulca import ULCA\n",
    "from ulca_ui.plot import Plot"
   ]
  },
  {
   "cell_type": "code",
   "execution_count": 2,
   "metadata": {},
   "outputs": [],
   "source": [
    "# data loading and preparation\n",
    "\n",
    "# load data from https://www.openml.org/d/554\n",
    "X, y = fetch_openml('mnist_784', version=1, return_X_y=True, as_frame=False)\n",
    "\n",
    "# df = pd.read_csv('./data/mnist_784.csv')\n",
    "# X = np.array(df)[:, :-1].astype(float)\n",
    "# y = np.array(df)[:, -1]"
   ]
  },
  {
   "cell_type": "code",
   "execution_count": 3,
   "metadata": {},
   "outputs": [],
   "source": [
    "X /= np.max(X)\n",
    "y = y.astype(int)"
   ]
  },
  {
   "cell_type": "code",
   "execution_count": 4,
   "metadata": {},
   "outputs": [],
   "source": [
    "n_samples_each = 500\n",
    "target_idx = np.hstack((np.where(y == 0)[0][:n_samples_each], \n",
    "                        np.where(y == 6)[0][:n_samples_each], \n",
    "                        np.where(y == 9)[0][:n_samples_each]))\n",
    "X_069 = X[target_idx,:]\n",
    "y_069 = y[target_idx]"
   ]
  },
  {
   "cell_type": "code",
   "execution_count": 5,
   "metadata": {},
   "outputs": [],
   "source": [
    "ulca = ULCA(n_components=2)"
   ]
  },
  {
   "cell_type": "code",
   "execution_count": 6,
   "metadata": {},
   "outputs": [
    {
     "data": {
      "text/html": [
       "\n",
       "        <iframe\n",
       "            width=\"100%\"\n",
       "            height=\"500px\"\n",
       "            src=\"http://localhost:8000/\"\n",
       "            frameborder=\"0\"\n",
       "            allowfullscreen\n",
       "        ></iframe>\n",
       "        "
      ],
      "text/plain": [
       "<IPython.lib.display.IFrame at 0x179fc4280>"
      ]
     },
     "execution_count": 6,
     "metadata": {},
     "output_type": "execute_result"
    }
   ],
   "source": [
    "# this shows the characters that 6 and 9 have but 0 does not\n",
    "w_tg = {0: 0, 6: 1, 9: 1}\n",
    "w_bg = {0: 1, 6: 0, 9: 0}\n",
    "w_bw = {0: 0, 6: 0, 9: 0}\n",
    "alpha = 5\n",
    "\n",
    "ulca = ulca.fit(X_069, y=y_069, w_tg=w_tg, w_bg=w_bg, w_bw=w_bw, alpha=alpha)\n",
    "\n",
    "Plot().plot_emb(dr=ulca, X=X_069, y=y_069, w_tg=w_tg, w_bg=w_bg, w_bw=w_bw, alpha=alpha,\n",
    "                w_area={'move': 0.2, 'scale': 0.8},\n",
    "                w_dist={'move': 0.8, 'scale': 0.2}, weight_opt_max_iter=30)"
   ]
  },
  {
   "cell_type": "markdown",
   "metadata": {},
   "source": [
    "Screenshot of the visualized result in UI\n",
    "![title](plot_image/mnist1.png)"
   ]
  },
  {
   "cell_type": "code",
   "execution_count": 7,
   "metadata": {
    "scrolled": false
   },
   "outputs": [
    {
     "data": {
      "text/html": [
       "\n",
       "        <iframe\n",
       "            width=\"100%\"\n",
       "            height=\"500px\"\n",
       "            src=\"http://localhost:8000/\"\n",
       "            frameborder=\"0\"\n",
       "            allowfullscreen\n",
       "        ></iframe>\n",
       "        "
      ],
      "text/plain": [
       "<IPython.lib.display.IFrame at 0x179fb3dc0>"
      ]
     },
     "execution_count": 7,
     "metadata": {},
     "output_type": "execute_result"
    }
   ],
   "source": [
    "# this shows the characters that 6 and 9 have but 0 does not\n",
    "# intearctively reduce 9's target weight\n",
    "\n",
    "# these are the parameters after the interaction\n",
    "w_tg = {0: 0, 6: 1, 9: 0.5}\n",
    "w_bg = {0: 1, 6: 0, 9: 0}\n",
    "w_bw = {0: 0, 6: 0, 9: 0}\n",
    "alpha = 5\n",
    "\n",
    "ulca = ulca.fit(X_069, y=y_069, w_tg=w_tg, w_bg=w_bg, w_bw=w_bw, alpha=alpha)\n",
    "\n",
    "Plot().plot_emb(dr=ulca, X=X_069, y=y_069, w_tg=w_tg, w_bg=w_bg, w_bw=w_bw, alpha=alpha,\n",
    "                w_area={'move': 0.2, 'scale': 0.8},\n",
    "                w_dist={'move': 0.8, 'scale': 0.2}, weight_opt_max_iter=30)"
   ]
  },
  {
   "cell_type": "markdown",
   "metadata": {},
   "source": [
    "Screenshot of the visualized result in UI\n",
    "![title](plot_image/mnist2.png)"
   ]
  },
  {
   "cell_type": "code",
   "execution_count": 8,
   "metadata": {},
   "outputs": [
    {
     "data": {
      "image/png": "[encoded data removed]",
      "text/plain": [
       "<Figure size 864x1728 with 2 Axes>"
      ]
     },
     "metadata": {
      "needs_background": "light"
     },
     "output_type": "display_data"
    }
   ],
   "source": [
    "pc1 = ulca.M[:, 0]\n",
    "pc2 = ulca.M[:, 1]\n",
    "\n",
    "abs_max = max(abs(pc1)) * 0.6\n",
    "fig, axes = plt.subplots(1, 2, figsize=(12, 24))\n",
    "axes[0].imshow(pc1.reshape((int(np.sqrt(X.shape[1])), int(np.sqrt(X.shape[1])))),\n",
    "           cmap='coolwarm',\n",
    "           vmin=-abs_max,\n",
    "           vmax=abs_max)\n",
    "axes[1].imshow(pc2.reshape((int(np.sqrt(X.shape[1])), int(np.sqrt(X.shape[1])))),\n",
    "           cmap='coolwarm',\n",
    "           vmin=-abs_max,\n",
    "           vmax=abs_max)\n",
    "plt.show()"
   ]
  },
  {
   "cell_type": "code",
   "execution_count": 9,
   "metadata": {},
   "outputs": [
    {
     "data": {
      "text/html": [
       "\n",
       "        <iframe\n",
       "            width=\"100%\"\n",
       "            height=\"500px\"\n",
       "            src=\"http://localhost:8000/\"\n",
       "            frameborder=\"0\"\n",
       "            allowfullscreen\n",
       "        ></iframe>\n",
       "        "
      ],
      "text/plain": [
       "<IPython.lib.display.IFrame at 0x17e7f6400>"
      ]
     },
     "execution_count": 9,
     "metadata": {},
     "output_type": "execute_result"
    }
   ],
   "source": [
    "# add separation between (digit 0) to (digits 6, 9)\n",
    "# intearactively adjust parameters\n",
    "\n",
    "# these are the parameters after the interaction\n",
    "w_tg = {0: 0, 6: 1, 9: 0.5}\n",
    "w_bg = {0: 1, 6: 0, 9: 0}\n",
    "w_bw = {0: 1, 6: 0, 9: 0}\n",
    "alpha = 10\n",
    "\n",
    "ulca = ulca.fit(X_069, y=y_069, w_tg=w_tg, w_bg=w_bg, w_bw=w_bw, alpha=alpha)\n",
    "\n",
    "Plot().plot_emb(dr=ulca, X=X_069, y=y_069, w_tg=w_tg, w_bg=w_bg, w_bw=w_bw, alpha=alpha,\n",
    "                w_area={'move': 0.2, 'scale': 0.8},\n",
    "                w_dist={'move': 0.8, 'scale': 0.2}, weight_opt_max_iter=30)"
   ]
  },
  {
   "cell_type": "markdown",
   "metadata": {},
   "source": [
    "Screenshot of the visualized result in UI\n",
    "![title](plot_image/mnist3.png)"
   ]
  },
  {
   "cell_type": "code",
   "execution_count": 10,
   "metadata": {},
   "outputs": [
    {
     "data": {
      "image/png": "[encoded data removed]",
      "text/plain": [
       "<Figure size 1152x2304 with 2 Axes>"
      ]
     },
     "metadata": {
      "needs_background": "light"
     },
     "output_type": "display_data"
    }
   ],
   "source": [
    "# this shows the characters that 6 and 9 have but 0 does not\n",
    "pc1 = ulca.M[:, 0]\n",
    "pc2 = ulca.M[:, 1]\n",
    "\n",
    "abs_max = max(abs(pc1)) * 0.6\n",
    "fig, axes = plt.subplots(1, 2, figsize=(16, 32))\n",
    "axes[0].imshow(pc1.reshape((int(np.sqrt(X.shape[1])), int(np.sqrt(X.shape[1])))),\n",
    "           cmap='coolwarm',\n",
    "           vmin=-abs_max,\n",
    "           vmax=abs_max)\n",
    "axes[1].imshow(pc2.reshape((int(np.sqrt(X.shape[1])), int(np.sqrt(X.shape[1])))),\n",
    "           cmap='coolwarm',\n",
    "           vmin=-abs_max,\n",
    "           vmax=abs_max)\n",
    "plt.show()"
   ]
  },
  {
   "cell_type": "code",
   "execution_count": 11,
   "metadata": {},
   "outputs": [],
   "source": [
    "# if PC2 shows the difference in top-right to bottom-left strokes, digit 7 should have a similar result with 9\n",
    "n_samples_each = 500\n",
    "target_idx = np.hstack((np.where(y == 0)[0][:n_samples_each], \n",
    "                        np.where(y == 6)[0][:n_samples_each], \n",
    "                        np.where(y == 9)[0][:n_samples_each],\n",
    "                        np.where(y == 7)[0][:n_samples_each]))\n",
    "X_0697 = X[target_idx,:]\n",
    "y_0697 = y[target_idx]"
   ]
  },
  {
   "cell_type": "code",
   "execution_count": 12,
   "metadata": {},
   "outputs": [
    {
     "data": {
      "text/html": [
       "\n",
       "        <iframe\n",
       "            width=\"100%\"\n",
       "            height=\"500px\"\n",
       "            src=\"http://localhost:8000/\"\n",
       "            frameborder=\"0\"\n",
       "            allowfullscreen\n",
       "        ></iframe>\n",
       "        "
      ],
      "text/plain": [
       "<IPython.lib.display.IFrame at 0x17e976fa0>"
      ]
     },
     "execution_count": 12,
     "metadata": {},
     "output_type": "execute_result"
    }
   ],
   "source": [
    "Plot().plot_emb(dr=ulca, X=X_0697, y=y_0697, w_tg=w_tg, w_bg=w_bg, w_bw=w_bw, alpha=alpha,\n",
    "                w_area={'move': 0.2, 'scale': 0.8},\n",
    "                w_dist={'move': 0.8, 'scale': 0.2}, weight_opt_max_iter=30)"
   ]
  },
  {
   "cell_type": "markdown",
   "metadata": {},
   "source": [
    "Screenshot of the visualized result in UI\n",
    "![title](plot_image/mnist4.png)"
   ]
  }
 ],
 "metadata": {
  "anaconda-cloud": {},
  "kernelspec": {
   "display_name": "Python 3",
   "language": "python",
   "name": "python3"
  },
  "language_info": {
   "codemirror_mode": {
    "name": "ipython",
    "version": 3
   },
   "file_extension": ".py",
   "mimetype": "text/x-python",
   "name": "python",
   "nbconvert_exporter": "python",
   "pygments_lexer": "ipython3",
   "version": "3.9.5"
  }
 },
 "nbformat": 4,
 "nbformat_minor": 2
}

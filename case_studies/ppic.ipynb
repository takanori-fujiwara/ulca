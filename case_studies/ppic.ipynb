{
 "cells": [
  {
   "cell_type": "code",
   "execution_count": 1,
   "metadata": {},
   "outputs": [],
   "source": [
    "import numpy as np\n",
    "import pandas as pd\n",
    "from sklearn.preprocessing import scale\n",
    "\n",
    "from ulca.ulca import ULCA\n",
    "from ulca_ui.plot import Plot"
   ]
  },
  {
   "cell_type": "code",
   "execution_count": 2,
   "metadata": {},
   "outputs": [],
   "source": [
    "import pyreadstat # please install via pip (pip3 install pyreadstat)\n",
    "from ppic_meta import metainfo\n",
    "df, meta = pyreadstat.read_sav(\"./data/ppic/2018.10.24.release.sav\")"
   ]
  },
  {
   "cell_type": "code",
   "execution_count": 3,
   "metadata": {},
   "outputs": [
    {
     "data": {
      "text/html": [
       "<div>\n",
       "<style scoped>\n",
       "    .dataframe tbody tr th:only-of-type {\n",
       "        vertical-align: middle;\n",
       "    }\n",
       "\n",
       "    .dataframe tbody tr th {\n",
       "        vertical-align: top;\n",
       "    }\n",
       "\n",
       "    .dataframe thead th {\n",
       "        text-align: right;\n",
       "    }\n",
       "</style>\n",
       "<table border=\"1\" class=\"dataframe\">\n",
       "  <thead>\n",
       "    <tr style=\"text-align: right;\">\n",
       "      <th></th>\n",
       "      <th>id</th>\n",
       "      <th>version</th>\n",
       "      <th>county</th>\n",
       "      <th>q1</th>\n",
       "      <th>q2</th>\n",
       "      <th>q3</th>\n",
       "      <th>q4</th>\n",
       "      <th>q4a</th>\n",
       "      <th>q5</th>\n",
       "      <th>q5a</th>\n",
       "      <th>...</th>\n",
       "      <th>d13a</th>\n",
       "      <th>d14</th>\n",
       "      <th>d15</th>\n",
       "      <th>d16</th>\n",
       "      <th>lgdr</th>\n",
       "      <th>d1a</th>\n",
       "      <th>gender</th>\n",
       "      <th>language</th>\n",
       "      <th>likevote</th>\n",
       "      <th>weight</th>\n",
       "    </tr>\n",
       "  </thead>\n",
       "  <tbody>\n",
       "    <tr>\n",
       "      <th>0</th>\n",
       "      <td>4.0</td>\n",
       "      <td>1.0</td>\n",
       "      <td>46.0</td>\n",
       "      <td>1.0</td>\n",
       "      <td>1.0</td>\n",
       "      <td>8.0</td>\n",
       "      <td>1.0</td>\n",
       "      <td>1.0</td>\n",
       "      <td>1.0</td>\n",
       "      <td>NaN</td>\n",
       "      <td>...</td>\n",
       "      <td>NaN</td>\n",
       "      <td>NaN</td>\n",
       "      <td>NaN</td>\n",
       "      <td>NaN</td>\n",
       "      <td>2.0</td>\n",
       "      <td>6.0</td>\n",
       "      <td>2.0</td>\n",
       "      <td>0.0</td>\n",
       "      <td>1.0</td>\n",
       "      <td>0.566456</td>\n",
       "    </tr>\n",
       "    <tr>\n",
       "      <th>1</th>\n",
       "      <td>5.0</td>\n",
       "      <td>1.0</td>\n",
       "      <td>49.0</td>\n",
       "      <td>1.0</td>\n",
       "      <td>1.0</td>\n",
       "      <td>1.0</td>\n",
       "      <td>1.0</td>\n",
       "      <td>1.0</td>\n",
       "      <td>1.0</td>\n",
       "      <td>NaN</td>\n",
       "      <td>...</td>\n",
       "      <td>NaN</td>\n",
       "      <td>NaN</td>\n",
       "      <td>2.0</td>\n",
       "      <td>NaN</td>\n",
       "      <td>2.0</td>\n",
       "      <td>6.0</td>\n",
       "      <td>2.0</td>\n",
       "      <td>0.0</td>\n",
       "      <td>1.0</td>\n",
       "      <td>0.509652</td>\n",
       "    </tr>\n",
       "    <tr>\n",
       "      <th>2</th>\n",
       "      <td>6.0</td>\n",
       "      <td>1.0</td>\n",
       "      <td>33.0</td>\n",
       "      <td>1.0</td>\n",
       "      <td>1.0</td>\n",
       "      <td>1.0</td>\n",
       "      <td>1.0</td>\n",
       "      <td>1.0</td>\n",
       "      <td>1.0</td>\n",
       "      <td>NaN</td>\n",
       "      <td>...</td>\n",
       "      <td>1.0</td>\n",
       "      <td>NaN</td>\n",
       "      <td>NaN</td>\n",
       "      <td>NaN</td>\n",
       "      <td>2.0</td>\n",
       "      <td>6.0</td>\n",
       "      <td>2.0</td>\n",
       "      <td>0.0</td>\n",
       "      <td>1.0</td>\n",
       "      <td>1.330116</td>\n",
       "    </tr>\n",
       "    <tr>\n",
       "      <th>3</th>\n",
       "      <td>9.0</td>\n",
       "      <td>1.0</td>\n",
       "      <td>15.0</td>\n",
       "      <td>2.0</td>\n",
       "      <td>2.0</td>\n",
       "      <td>1.0</td>\n",
       "      <td>1.0</td>\n",
       "      <td>2.0</td>\n",
       "      <td>NaN</td>\n",
       "      <td>2.0</td>\n",
       "      <td>...</td>\n",
       "      <td>NaN</td>\n",
       "      <td>NaN</td>\n",
       "      <td>NaN</td>\n",
       "      <td>NaN</td>\n",
       "      <td>2.0</td>\n",
       "      <td>5.0</td>\n",
       "      <td>2.0</td>\n",
       "      <td>0.0</td>\n",
       "      <td>0.0</td>\n",
       "      <td>1.570243</td>\n",
       "    </tr>\n",
       "    <tr>\n",
       "      <th>4</th>\n",
       "      <td>10.0</td>\n",
       "      <td>1.0</td>\n",
       "      <td>16.0</td>\n",
       "      <td>2.0</td>\n",
       "      <td>2.0</td>\n",
       "      <td>1.0</td>\n",
       "      <td>1.0</td>\n",
       "      <td>2.0</td>\n",
       "      <td>NaN</td>\n",
       "      <td>1.0</td>\n",
       "      <td>...</td>\n",
       "      <td>NaN</td>\n",
       "      <td>NaN</td>\n",
       "      <td>NaN</td>\n",
       "      <td>NaN</td>\n",
       "      <td>2.0</td>\n",
       "      <td>6.0</td>\n",
       "      <td>2.0</td>\n",
       "      <td>0.0</td>\n",
       "      <td>0.0</td>\n",
       "      <td>0.276546</td>\n",
       "    </tr>\n",
       "    <tr>\n",
       "      <th>...</th>\n",
       "      <td>...</td>\n",
       "      <td>...</td>\n",
       "      <td>...</td>\n",
       "      <td>...</td>\n",
       "      <td>...</td>\n",
       "      <td>...</td>\n",
       "      <td>...</td>\n",
       "      <td>...</td>\n",
       "      <td>...</td>\n",
       "      <td>...</td>\n",
       "      <td>...</td>\n",
       "      <td>...</td>\n",
       "      <td>...</td>\n",
       "      <td>...</td>\n",
       "      <td>...</td>\n",
       "      <td>...</td>\n",
       "      <td>...</td>\n",
       "      <td>...</td>\n",
       "      <td>...</td>\n",
       "      <td>...</td>\n",
       "      <td>...</td>\n",
       "    </tr>\n",
       "    <tr>\n",
       "      <th>1699</th>\n",
       "      <td>300235.0</td>\n",
       "      <td>2.0</td>\n",
       "      <td>43.0</td>\n",
       "      <td>8.0</td>\n",
       "      <td>1.0</td>\n",
       "      <td>1.0</td>\n",
       "      <td>2.0</td>\n",
       "      <td>6.0</td>\n",
       "      <td>NaN</td>\n",
       "      <td>NaN</td>\n",
       "      <td>...</td>\n",
       "      <td>NaN</td>\n",
       "      <td>2.0</td>\n",
       "      <td>NaN</td>\n",
       "      <td>1.0</td>\n",
       "      <td>2.0</td>\n",
       "      <td>2.0</td>\n",
       "      <td>2.0</td>\n",
       "      <td>0.0</td>\n",
       "      <td>0.0</td>\n",
       "      <td>0.910798</td>\n",
       "    </tr>\n",
       "    <tr>\n",
       "      <th>1700</th>\n",
       "      <td>300236.0</td>\n",
       "      <td>2.0</td>\n",
       "      <td>10.0</td>\n",
       "      <td>8.0</td>\n",
       "      <td>1.0</td>\n",
       "      <td>1.0</td>\n",
       "      <td>1.0</td>\n",
       "      <td>1.0</td>\n",
       "      <td>2.0</td>\n",
       "      <td>NaN</td>\n",
       "      <td>...</td>\n",
       "      <td>NaN</td>\n",
       "      <td>2.0</td>\n",
       "      <td>NaN</td>\n",
       "      <td>1.0</td>\n",
       "      <td>2.0</td>\n",
       "      <td>5.0</td>\n",
       "      <td>2.0</td>\n",
       "      <td>0.0</td>\n",
       "      <td>1.0</td>\n",
       "      <td>0.704589</td>\n",
       "    </tr>\n",
       "    <tr>\n",
       "      <th>1701</th>\n",
       "      <td>300237.0</td>\n",
       "      <td>2.0</td>\n",
       "      <td>19.0</td>\n",
       "      <td>1.0</td>\n",
       "      <td>2.0</td>\n",
       "      <td>2.0</td>\n",
       "      <td>1.0</td>\n",
       "      <td>1.0</td>\n",
       "      <td>2.0</td>\n",
       "      <td>NaN</td>\n",
       "      <td>...</td>\n",
       "      <td>NaN</td>\n",
       "      <td>2.0</td>\n",
       "      <td>NaN</td>\n",
       "      <td>1.0</td>\n",
       "      <td>2.0</td>\n",
       "      <td>3.0</td>\n",
       "      <td>2.0</td>\n",
       "      <td>0.0</td>\n",
       "      <td>1.0</td>\n",
       "      <td>1.833751</td>\n",
       "    </tr>\n",
       "    <tr>\n",
       "      <th>1702</th>\n",
       "      <td>300240.0</td>\n",
       "      <td>2.0</td>\n",
       "      <td>10.0</td>\n",
       "      <td>2.0</td>\n",
       "      <td>2.0</td>\n",
       "      <td>1.0</td>\n",
       "      <td>1.0</td>\n",
       "      <td>1.0</td>\n",
       "      <td>1.0</td>\n",
       "      <td>NaN</td>\n",
       "      <td>...</td>\n",
       "      <td>NaN</td>\n",
       "      <td>2.0</td>\n",
       "      <td>NaN</td>\n",
       "      <td>1.0</td>\n",
       "      <td>2.0</td>\n",
       "      <td>2.0</td>\n",
       "      <td>1.0</td>\n",
       "      <td>0.0</td>\n",
       "      <td>1.0</td>\n",
       "      <td>0.896070</td>\n",
       "    </tr>\n",
       "    <tr>\n",
       "      <th>1703</th>\n",
       "      <td>300244.0</td>\n",
       "      <td>2.0</td>\n",
       "      <td>36.0</td>\n",
       "      <td>1.0</td>\n",
       "      <td>1.0</td>\n",
       "      <td>1.0</td>\n",
       "      <td>1.0</td>\n",
       "      <td>2.0</td>\n",
       "      <td>NaN</td>\n",
       "      <td>1.0</td>\n",
       "      <td>...</td>\n",
       "      <td>NaN</td>\n",
       "      <td>2.0</td>\n",
       "      <td>NaN</td>\n",
       "      <td>1.0</td>\n",
       "      <td>2.0</td>\n",
       "      <td>3.0</td>\n",
       "      <td>1.0</td>\n",
       "      <td>0.0</td>\n",
       "      <td>0.0</td>\n",
       "      <td>0.708273</td>\n",
       "    </tr>\n",
       "  </tbody>\n",
       "</table>\n",
       "<p>1704 rows × 77 columns</p>\n",
       "</div>"
      ],
      "text/plain": [
       "            id  version  county   q1   q2   q3   q4  q4a   q5  q5a  ...  d13a  \\\n",
       "0          4.0      1.0    46.0  1.0  1.0  8.0  1.0  1.0  1.0  NaN  ...   NaN   \n",
       "1          5.0      1.0    49.0  1.0  1.0  1.0  1.0  1.0  1.0  NaN  ...   NaN   \n",
       "2          6.0      1.0    33.0  1.0  1.0  1.0  1.0  1.0  1.0  NaN  ...   1.0   \n",
       "3          9.0      1.0    15.0  2.0  2.0  1.0  1.0  2.0  NaN  2.0  ...   NaN   \n",
       "4         10.0      1.0    16.0  2.0  2.0  1.0  1.0  2.0  NaN  1.0  ...   NaN   \n",
       "...        ...      ...     ...  ...  ...  ...  ...  ...  ...  ...  ...   ...   \n",
       "1699  300235.0      2.0    43.0  8.0  1.0  1.0  2.0  6.0  NaN  NaN  ...   NaN   \n",
       "1700  300236.0      2.0    10.0  8.0  1.0  1.0  1.0  1.0  2.0  NaN  ...   NaN   \n",
       "1701  300237.0      2.0    19.0  1.0  2.0  2.0  1.0  1.0  2.0  NaN  ...   NaN   \n",
       "1702  300240.0      2.0    10.0  2.0  2.0  1.0  1.0  1.0  1.0  NaN  ...   NaN   \n",
       "1703  300244.0      2.0    36.0  1.0  1.0  1.0  1.0  2.0  NaN  1.0  ...   NaN   \n",
       "\n",
       "      d14  d15  d16  lgdr  d1a  gender  language  likevote    weight  \n",
       "0     NaN  NaN  NaN   2.0  6.0     2.0       0.0       1.0  0.566456  \n",
       "1     NaN  2.0  NaN   2.0  6.0     2.0       0.0       1.0  0.509652  \n",
       "2     NaN  NaN  NaN   2.0  6.0     2.0       0.0       1.0  1.330116  \n",
       "3     NaN  NaN  NaN   2.0  5.0     2.0       0.0       0.0  1.570243  \n",
       "4     NaN  NaN  NaN   2.0  6.0     2.0       0.0       0.0  0.276546  \n",
       "...   ...  ...  ...   ...  ...     ...       ...       ...       ...  \n",
       "1699  2.0  NaN  1.0   2.0  2.0     2.0       0.0       0.0  0.910798  \n",
       "1700  2.0  NaN  1.0   2.0  5.0     2.0       0.0       1.0  0.704589  \n",
       "1701  2.0  NaN  1.0   2.0  3.0     2.0       0.0       1.0  1.833751  \n",
       "1702  2.0  NaN  1.0   2.0  2.0     1.0       0.0       1.0  0.896070  \n",
       "1703  2.0  NaN  1.0   2.0  3.0     1.0       0.0       0.0  0.708273  \n",
       "\n",
       "[1704 rows x 77 columns]"
      ]
     },
     "execution_count": 3,
     "metadata": {},
     "output_type": "execute_result"
    }
   ],
   "source": [
    "df"
   ]
  },
  {
   "cell_type": "code",
   "execution_count": 4,
   "metadata": {},
   "outputs": [],
   "source": [
    "# covert code to binary, categorical, numeric numbers\n",
    "for col_key in df:\n",
    "    df[col_key] = np.vectorize(metainfo[col_key]['code_num'])(df[col_key])"
   ]
  },
  {
   "cell_type": "code",
   "execution_count": 5,
   "metadata": {},
   "outputs": [],
   "source": [
    "# remove attributes that we are not interested in\n",
    "for col_key in df:\n",
    "    if metainfo[col_key]['use'] == 0:\n",
    "        del df[col_key]"
   ]
  },
  {
   "cell_type": "code",
   "execution_count": 6,
   "metadata": {},
   "outputs": [],
   "source": [
    "# we only want to compare democrat vs republican supporters\n",
    "# 1: Democrat, 2: Republican\n",
    "df.drop(np.where(df['q4a'] > 2)[0], axis=0, inplace=True)\n",
    "df.reset_index(inplace=True, drop=True)"
   ]
  },
  {
   "cell_type": "code",
   "execution_count": 7,
   "metadata": {},
   "outputs": [],
   "source": [
    "# combine planned- and used-vote method\n",
    "df['q37a'][df['q37a'] == 999] = df['q37b'][df['q37a'] == 999]\n",
    "df.drop(['q37b'], axis=1, inplace=True)"
   ]
  },
  {
   "cell_type": "code",
   "execution_count": 8,
   "metadata": {},
   "outputs": [],
   "source": [
    "col_na_ratios = np.array([np.sum(df[col_key] == 999) / df.shape[0] for col_key in df])"
   ]
  },
  {
   "cell_type": "code",
   "execution_count": 9,
   "metadata": {},
   "outputs": [
    {
     "data": {
      "image/png": "[encoded data removed]",
      "text/plain": [
       "<Figure size 1008x432 with 1 Axes>"
      ]
     },
     "metadata": {
      "needs_background": "light"
     },
     "output_type": "display_data"
    }
   ],
   "source": [
    "import matplotlib.pyplot as plt\n",
    "\n",
    "plt.figure(figsize=(14, 6))\n",
    "plt.bar(list(range(len(col_na_ratios))), col_na_ratios)\n",
    "ax = plt.gca()\n",
    "ax.set_xticks(list(range(len(col_na_ratios))))\n",
    "ax.set_xticklabels([col_key + ': ' + metainfo[col_key]['short'] for col_key in df.columns], rotation=90)\n",
    "\n",
    "plt.show()"
   ]
  },
  {
   "cell_type": "code",
   "execution_count": 10,
   "metadata": {},
   "outputs": [],
   "source": [
    "# remove attributes that have many nan values\n",
    "df.drop(df.columns[np.where(col_na_ratios > 0.1)[0]], axis=1, inplace=True)"
   ]
  },
  {
   "cell_type": "code",
   "execution_count": 11,
   "metadata": {},
   "outputs": [],
   "source": [
    "# also drop other non-important attributes to reduce # of nan\n",
    "# (e.g., there is a similar quesiton or related to the dropped cols)\n",
    "# 'q10: satisfy_senate_choice',\n",
    "# 'q12: congress_trump',\n",
    "# 'q15: importance_proposition6',\n",
    "# 'q17: imortance_proposition10',\n",
    "df.drop(['q10', 'q12', 'q15', 'q17'], axis=1, inplace=True)"
   ]
  },
  {
   "cell_type": "code",
   "execution_count": 12,
   "metadata": {},
   "outputs": [],
   "source": [
    "row_na_ratios = np.array([np.sum(row == 999) / df.shape[1] for index, row in df.iterrows()])"
   ]
  },
  {
   "cell_type": "code",
   "execution_count": 13,
   "metadata": {},
   "outputs": [
    {
     "data": {
      "image/png": "[encoded data removed]",
      "text/plain": [
       "<Figure size 1008x432 with 1 Axes>"
      ]
     },
     "metadata": {
      "needs_background": "light"
     },
     "output_type": "display_data"
    }
   ],
   "source": [
    "plt.figure(figsize=(14, 6))\n",
    "plt.hist(row_na_ratios, bins=40)\n",
    "plt.show()"
   ]
  },
  {
   "cell_type": "code",
   "execution_count": 14,
   "metadata": {},
   "outputs": [],
   "source": [
    "# drop subjects who have NA in their answers\n",
    "df = df.iloc[row_na_ratios <= 0.0, :]\n",
    "df.reset_index(inplace=True, drop=True)"
   ]
  },
  {
   "cell_type": "code",
   "execution_count": 15,
   "metadata": {},
   "outputs": [
    {
     "name": "stderr",
     "output_type": "stream",
     "text": [
      "/usr/local/lib/python3.9/site-packages/pandas/core/frame.py:4305: SettingWithCopyWarning: \n",
      "A value is trying to be set on a copy of a slice from a DataFrame\n",
      "\n",
      "See the caveats in the documentation: https://pandas.pydata.org/pandas-docs/stable/user_guide/indexing.html#returning-a-view-versus-a-copy\n",
      "  return super().drop(\n"
     ]
    }
   ],
   "source": [
    "# use q4a as label\n",
    "y = np.array(df['q4a'])\n",
    "y[y == 1] = 0 # democrat\n",
    "y[y == 2] = 1 # republican\n",
    "y_to_name = {0: 'Dem', 1: 'Rep'}\n",
    "\n",
    "df.drop(['q4a'], axis=1, inplace=True)\n",
    "X = np.array(df)\n",
    "\n",
    "feat_names = [] \n",
    "name_to_q = {}\n",
    "for col_key in df.columns:\n",
    "    name = col_key\n",
    "    feat_names.append(name)\n",
    "    name_to_q[name] = col_key\n",
    "feat_names = np.array(feat_names)"
   ]
  },
  {
   "cell_type": "code",
   "execution_count": 16,
   "metadata": {},
   "outputs": [],
   "source": [
    "# apply scaling\n",
    "X = scale(X)"
   ]
  },
  {
   "cell_type": "code",
   "execution_count": 17,
   "metadata": {},
   "outputs": [
    {
     "data": {
      "text/plain": [
       "(548, 27)"
      ]
     },
     "execution_count": 17,
     "metadata": {},
     "output_type": "execute_result"
    }
   ],
   "source": [
    "X.shape"
   ]
  },
  {
   "cell_type": "code",
   "execution_count": 18,
   "metadata": {},
   "outputs": [],
   "source": [
    "# prepare ULCA for comparative analysis\n",
    "ulca = ULCA(n_components=2)"
   ]
  },
  {
   "cell_type": "code",
   "execution_count": 19,
   "metadata": {},
   "outputs": [
    {
     "data": {
      "text/html": [
       "\n",
       "        <iframe\n",
       "            width=\"100%\"\n",
       "            height=\"500px\"\n",
       "            src=\"http://localhost:8000/\"\n",
       "            frameborder=\"0\"\n",
       "            allowfullscreen\n",
       "        ></iframe>\n",
       "        "
      ],
      "text/plain": [
       "<IPython.lib.display.IFrame at 0x17ddce880>"
      ]
     },
     "execution_count": 19,
     "metadata": {},
     "output_type": "execute_result"
    }
   ],
   "source": [
    "# cPCA to find hidden subgroups in Dem\n",
    "w_tg = {0: 1, 1: 0}\n",
    "w_bg = {0: 0, 1: 1}\n",
    "w_bw = {0: 0, 1: 0}\n",
    "alpha = 20 # 5.5\n",
    "\n",
    "ulca = ulca.fit(X, y=y, w_tg=w_tg, w_bg=w_bg, w_bw=w_bw, alpha=alpha)\n",
    "\n",
    "Plot().plot_emb(dr=ulca, X=X, y=y, w_tg=w_tg, w_bg=w_bg, w_bw=w_bw, alpha=alpha,\n",
    "                feat_names=feat_names, y_to_name={0: 'Dem', 1: 'Rep'},\n",
    "                w_area={'move': 0.3, 'scale': 0.7},\n",
    "                w_dist={'move': 0.7, 'scale': 0.3}, weight_opt_max_iter=100)"
   ]
  },
  {
   "cell_type": "markdown",
   "metadata": {},
   "source": [
    "Screenshot of the visualized result in UI\n",
    "![title](plot_image/ppic1.png)"
   ]
  },
  {
   "cell_type": "code",
   "execution_count": 20,
   "metadata": {},
   "outputs": [],
   "source": [
    "# separate dem in to dem(+) and dem(-)\n",
    "dem_pos = (y == 0) & (df[name_to_q['q30']] == 1)\n",
    "dem_neg = (y == 0) & (df[name_to_q['q30']] == 0)\n",
    "\n",
    "y2 = np.zeros(len(y))\n",
    "y2[dem_pos] = 0\n",
    "y2[dem_neg] = 2\n",
    "y2[y == 1] = 1\n",
    "\n",
    "y2_to_name = {0: 'Dem (pos)', 1: 'Rep', 2: 'Dem (neg)'}"
   ]
  },
  {
   "cell_type": "code",
   "execution_count": 21,
   "metadata": {},
   "outputs": [],
   "source": [
    "X2 = X[:, (feat_names != 'q30')]\n",
    "feat_names = feat_names[(feat_names != 'q30')]"
   ]
  },
  {
   "cell_type": "code",
   "execution_count": 22,
   "metadata": {
    "scrolled": false
   },
   "outputs": [
    {
     "data": {
      "text/html": [
       "\n",
       "        <iframe\n",
       "            width=\"100%\"\n",
       "            height=\"500px\"\n",
       "            src=\"http://localhost:8000/\"\n",
       "            frameborder=\"0\"\n",
       "            allowfullscreen\n",
       "        ></iframe>\n",
       "        "
      ],
      "text/plain": [
       "<IPython.lib.display.IFrame at 0x17db68cd0>"
      ]
     },
     "execution_count": 22,
     "metadata": {},
     "output_type": "execute_result"
    }
   ],
   "source": [
    "# cPCA to find what is inside of Dem (neg)\n",
    "\n",
    "w_tg = {0: 0, 1: 0, 2: 1}\n",
    "w_bg = {0: 1, 1: 1, 2: 0}\n",
    "w_bw = {0: 0, 1: 0, 2: 0}\n",
    "alpha = None\n",
    "\n",
    "ulca = ulca.fit(X2, y=y2, w_tg=w_tg, w_bg=w_bg, w_bw=w_bw, alpha=alpha)\n",
    "\n",
    "Plot().plot_emb(dr=ulca, X=X2, y=y2, w_tg=w_tg, w_bg=w_bg, w_bw=w_bw, alpha=alpha,\n",
    "                feat_names=feat_names, y_to_name=y2_to_name,\n",
    "                w_area={'move': 0.3, 'scale': 0.7},\n",
    "                w_dist={'move': 0.7, 'scale': 0.3}, weight_opt_max_iter=100)"
   ]
  },
  {
   "cell_type": "markdown",
   "metadata": {},
   "source": [
    "Screenshot of the visualized result in UI\n",
    "![title](plot_image/ppic2.png)"
   ]
  },
  {
   "cell_type": "code",
   "execution_count": 23,
   "metadata": {},
   "outputs": [],
   "source": [
    "X3 = np.zeros(X2.shape)\n",
    "y3 = np.zeros(y2.shape)\n",
    "n0 = np.sum(y2 == 0)\n",
    "n1 = np.sum(y2 == 1)\n",
    "n2 = np.sum(y2 == 2)\n",
    "\n",
    "X3[:n0, :] = X2[y2 == 0, :]\n",
    "X3[n0:(n0 + n1), :] = X2[y2 == 1, :]\n",
    "X3[(n0 + n1):(n0 + n1 + n2), :] = X2[y2 == 2, :]\n",
    "y3[:n0] = 0\n",
    "y3[n0:(n0 + n1)] = 1\n",
    "y3[(n0 + n1):(n0 + n1 + n2)] = 2"
   ]
  },
  {
   "cell_type": "code",
   "execution_count": 24,
   "metadata": {},
   "outputs": [
    {
     "data": {
      "text/html": [
       "\n",
       "        <iframe\n",
       "            width=\"100%\"\n",
       "            height=\"500px\"\n",
       "            src=\"http://localhost:8000/\"\n",
       "            frameborder=\"0\"\n",
       "            allowfullscreen\n",
       "        ></iframe>\n",
       "        "
      ],
      "text/plain": [
       "<IPython.lib.display.IFrame at 0x17ddcf340>"
      ]
     },
     "execution_count": 24,
     "metadata": {},
     "output_type": "execute_result"
    }
   ],
   "source": [
    "# find separation #2 (These parameters are after interaction)\n",
    "\n",
    "\n",
    "w_tg = {0: 0.1036320301254145, 1: 0.08285710596411336, 2: 0.6337167203034522}\n",
    "w_bg = {0: 0.9156204118817143, 1: 0.905759808967022, 2: 0.058115068138408006}\n",
    "w_bw = {0: 0.6587344065214706, 1: 0.06323367081423459, 2: 0.9843778233029735}\n",
    "alpha = 0.8938344688343313\n",
    "\n",
    "ulca = ulca.fit(X3, y=y3, w_tg=w_tg, w_bg=w_bg, w_bw=w_bw, alpha=alpha)\n",
    "\n",
    "Plot().plot_emb(dr=ulca, X=X3, y=y3, w_tg=w_tg, w_bg=w_bg, w_bw=w_bw, alpha=alpha,\n",
    "                feat_names=feat_names, y_to_name=y2_to_name,\n",
    "                w_area={'move': 0.3, 'scale': 0.7},\n",
    "                w_dist={'move': 0.7, 'scale': 0.3}, weight_opt_max_iter=100)"
   ]
  },
  {
   "cell_type": "markdown",
   "metadata": {},
   "source": [
    "Screenshot of the visualized result in UI\n",
    "![title](plot_image/ppic3.png)"
   ]
  }
 ],
 "metadata": {
  "anaconda-cloud": {},
  "kernelspec": {
   "display_name": "Python 3",
   "language": "python",
   "name": "python3"
  },
  "language_info": {
   "codemirror_mode": {
    "name": "ipython",
    "version": 3
   },
   "file_extension": ".py",
   "mimetype": "text/x-python",
   "name": "python",
   "nbconvert_exporter": "python",
   "pygments_lexer": "ipython3",
   "version": "3.9.2"
  },
  "toc": {
   "nav_menu": {},
   "number_sections": true,
   "sideBar": true,
   "skip_h1_title": false,
   "toc_cell": false,
   "toc_position": {},
   "toc_section_display": "block",
   "toc_window_display": false
  }
 },
 "nbformat": 4,
 "nbformat_minor": 2
}

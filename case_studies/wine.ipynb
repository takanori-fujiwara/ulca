{
 "cells": [
  {
   "cell_type": "code",
   "execution_count": 1,
   "metadata": {},
   "outputs": [],
   "source": [
    "from sklearn import datasets, preprocessing\n",
    "\n",
    "from ulca.ulca import ULCA\n",
    "from ulca_ui.plot import Plot"
   ]
  },
  {
   "cell_type": "code",
   "execution_count": 2,
   "metadata": {},
   "outputs": [],
   "source": [
    "# prepare data\n",
    "dataset = datasets.load_wine()\n",
    "X = dataset.data\n",
    "y = dataset.target\n",
    "feat_names = dataset.feature_names\n",
    "\n",
    "# replace to a shorter name\n",
    "feat_names[11] = 'od280/od315'\n",
    "\n",
    "# normalization\n",
    "X = preprocessing.scale(X)"
   ]
  },
  {
   "cell_type": "code",
   "execution_count": 3,
   "metadata": {},
   "outputs": [],
   "source": [
    "# prepare ULCA and parameters\n",
    "ulca = ULCA(n_components=2)\n",
    "\n",
    "w_tg={0: 0, 1: 0, 2: 0}\n",
    "w_bg={0: 1, 1: 1, 2: 1}\n",
    "w_bw={0: 1, 1: 1, 2: 1}"
   ]
  },
  {
   "cell_type": "code",
   "execution_count": 4,
   "metadata": {},
   "outputs": [],
   "source": [
    "ulca = ulca.fit(X, y=y, w_tg=w_tg, w_bg=w_bg, w_bw=w_bw) # w_tg=[0,0,0], w_bg=[1,1,1], w_bw=[1,1,1]"
   ]
  },
  {
   "cell_type": "code",
   "execution_count": 5,
   "metadata": {
    "scrolled": false
   },
   "outputs": [
    {
     "data": {
      "text/html": [
       "\n",
       "        <iframe\n",
       "            width=\"100%\"\n",
       "            height=\"500px\"\n",
       "            src=\"http://localhost:8000/\"\n",
       "            frameborder=\"0\"\n",
       "            allowfullscreen\n",
       "        ></iframe>\n",
       "        "
      ],
      "text/plain": [
       "<IPython.lib.display.IFrame at 0x18292e6a0>"
      ]
     },
     "execution_count": 5,
     "metadata": {},
     "output_type": "execute_result"
    }
   ],
   "source": [
    "Plot().plot_emb(dr=ulca, X=X, y=y, w_tg=w_tg, w_bg=w_bg, w_bw=w_bw, feat_names=feat_names)"
   ]
  },
  {
   "cell_type": "markdown",
   "metadata": {},
   "source": [
    "Screenshot of the visualized result in UI\n",
    "![title](plot_image/wine1.png)"
   ]
  },
  {
   "cell_type": "code",
   "execution_count": 6,
   "metadata": {},
   "outputs": [
    {
     "name": "stdout",
     "output_type": "stream",
     "text": [
      "[-1.72489363e-02 -1.37918836e-01 -1.58538296e-01 -4.11341137e-02\n",
      "  3.94789263e-02 -1.12336697e-01  8.28490759e-01  1.02331879e-01\n",
      " -1.85835719e-04 -3.90527742e-01  1.90849304e-01  2.20422927e-01\n",
      "  7.27043097e-02]\n"
     ]
    }
   ],
   "source": [
    "print(Plot().current_info().dr.M[:, 0]) # print x-axis info for the current result\n",
    "# print(Plot().saved_info()['PCA on Label 1'].dr.M[:, 0]) # print x-axis infor for the saved result"
   ]
  },
  {
   "cell_type": "code",
   "execution_count": 7,
   "metadata": {},
   "outputs": [
    {
     "data": {
      "text/html": [
       "\n",
       "        <iframe\n",
       "            width=\"100%\"\n",
       "            height=\"500px\"\n",
       "            src=\"http://localhost:8000/\"\n",
       "            frameborder=\"0\"\n",
       "            allowfullscreen\n",
       "        ></iframe>\n",
       "        "
      ],
      "text/plain": [
       "<IPython.lib.display.IFrame at 0x18292c5b0>"
      ]
     },
     "execution_count": 7,
     "metadata": {},
     "output_type": "execute_result"
    }
   ],
   "source": [
    "# Common in Labels 1&2 but different from Label 0\n",
    "# (move Label 1 close to Label 2)\n",
    "\n",
    "# This is a produced parameter example (but rotation is not exactly the same)\n",
    "w_tg = {0: 0.8362787627856337, 1: 0.41704556470577103, 2: 0.8566001894111713}\n",
    "w_bg = {0: 0, 1: 0.9618254239294945, 2: 0.6878804303425374}\n",
    "w_bw = {0: 1.0, 1: 0.4456044544201703, 2: 0}\n",
    "alpha = 3.462280952336661\n",
    "ulca = ulca.fit(X, y=y, w_tg=w_tg, w_bg=w_bg, w_bw=w_bw, alpha=alpha)\n",
    "                \n",
    "Plot().plot_emb(ulca, X=X, y=y, w_tg=w_tg, w_bg=w_bg, w_bw=w_bw, feat_names=feat_names)"
   ]
  },
  {
   "cell_type": "markdown",
   "metadata": {},
   "source": [
    "Screenshot of the visualized result in UI\n",
    "![title](plot_image/wine2.png)"
   ]
  },
  {
   "cell_type": "code",
   "execution_count": 8,
   "metadata": {},
   "outputs": [
    {
     "data": {
      "text/html": [
       "\n",
       "        <iframe\n",
       "            width=\"100%\"\n",
       "            height=\"500px\"\n",
       "            src=\"http://localhost:8000/\"\n",
       "            frameborder=\"0\"\n",
       "            allowfullscreen\n",
       "        ></iframe>\n",
       "        "
      ],
      "text/plain": [
       "<IPython.lib.display.IFrame at 0x10e70df70>"
      ]
     },
     "execution_count": 8,
     "metadata": {},
     "output_type": "execute_result"
    }
   ],
   "source": [
    "# high variance only in Label 2\n",
    "# Move sliders to be \n",
    "# w_tg = {0: 0, 1: 0, 2: 1}\n",
    "# w_bg = {0: 1, 1: 1, 2: 0}\n",
    "# w_bw = {0: 0, 1: 0, 2: 0}\n",
    "# alpha = 10\n",
    "\n",
    "# This produces the same result with the above interactions (but rotation is not exactly the same)\n",
    "w_tg = {0: 0, 1: 0, 2: 1}\n",
    "w_bg = {0: 1, 1: 1, 2: 0}\n",
    "w_bw = {0: 0, 1: 0, 2: 0}\n",
    "alpha = 10\n",
    "ulca = ulca.fit(X, y=y, w_tg=w_tg, w_bg=w_bg, w_bw=w_bw, alpha=alpha)\n",
    "\n",
    "Plot().plot_emb(ulca, X=X, y=y, w_tg=w_tg, w_bg=w_bg, w_bw=w_bw, feat_names=feat_names)"
   ]
  },
  {
   "cell_type": "markdown",
   "metadata": {},
   "source": [
    "Screenshot of the visualized result in UI\n",
    "![title](plot_image/wine3.png)"
   ]
  }
 ],
 "metadata": {
  "anaconda-cloud": {},
  "kernelspec": {
   "display_name": "Python 3",
   "language": "python",
   "name": "python3"
  },
  "language_info": {
   "codemirror_mode": {
    "name": "ipython",
    "version": 3
   },
   "file_extension": ".py",
   "mimetype": "text/x-python",
   "name": "python",
   "nbconvert_exporter": "python",
   "pygments_lexer": "ipython3",
   "version": "3.9.2"
  },
  "toc": {
   "nav_menu": {},
   "number_sections": true,
   "sideBar": true,
   "skip_h1_title": false,
   "toc_cell": false,
   "toc_position": {},
   "toc_section_display": "block",
   "toc_window_display": false
  }
 },
 "nbformat": 4,
 "nbformat_minor": 2
}

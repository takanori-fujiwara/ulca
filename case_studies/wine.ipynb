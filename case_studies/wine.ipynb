{
 "cells": [
  {
   "cell_type": "code",
   "execution_count": 1,
   "metadata": {},
   "outputs": [],
   "source": [
    "from sklearn import datasets, preprocessing\n",
    "\n",
    "from ulca.ulca import ULCA\n",
    "from ulca_ui.plot import Plot"
   ]
  },
  {
   "cell_type": "code",
   "execution_count": 27,
   "metadata": {},
   "outputs": [],
   "source": [
    "# prepare data\n",
    "dataset = datasets.load_wine()\n",
    "X = dataset.data\n",
    "y = dataset.target\n",
    "feat_names = dataset.feature_names\n",
    "\n",
    "# replace to a shorter name\n",
    "feat_names[11] = 'od280/od315'\n",
    "\n",
    "# normalization\n",
    "X = preprocessing.scale(X)"
   ]
  },
  {
   "cell_type": "code",
   "execution_count": 51,
   "metadata": {},
   "outputs": [],
   "source": [
    "# prepare ULCA and parameters\n",
    "ulca = ULCA(n_components=2)\n",
    "\n",
    "w_tg={0: 1, 1: 0, 2: 0}\n",
    "w_bg={0: 0, 1: 1, 2: 1}\n",
    "w_bw={0: 1, 1: 1, 2: 1}"
   ]
  },
  {
   "cell_type": "code",
   "execution_count": 52,
   "metadata": {},
   "outputs": [],
   "source": [
    "ulca = ulca.fit(X, y=y, w_tg=w_tg, w_bg=w_bg, w_bw=w_bw) # w_tg=[0,0,0], w_bg=[1,1,1], w_bw=[1,1,1]"
   ]
  },
  {
   "cell_type": "code",
   "execution_count": 53,
   "metadata": {
    "scrolled": false
   },
   "outputs": [
    {
     "data": {
      "text/html": [
       "\n",
       "        <iframe\n",
       "            width=\"100%\"\n",
       "            height=\"500px\"\n",
       "            src=\"http://localhost:8000/\"\n",
       "            frameborder=\"0\"\n",
       "            allowfullscreen\n",
       "        ></iframe>\n",
       "        "
      ],
      "text/plain": [
       "<IPython.lib.display.IFrame at 0x17f3e9400>"
      ]
     },
     "execution_count": 53,
     "metadata": {},
     "output_type": "execute_result"
    }
   ],
   "source": [
    "Plot().plot_emb(dr=ulca, X=X, y=y, w_tg=w_tg, w_bg=w_bg, w_bw=w_bw, feat_names=feat_names)"
   ]
  },
  {
   "cell_type": "markdown",
   "metadata": {},
   "source": [
    "Screenshot of the visualized result in UI\n",
    "![title](plot_image/wine1.png)"
   ]
  },
  {
   "cell_type": "code",
   "execution_count": 54,
   "metadata": {},
   "outputs": [
    {
     "name": "stdout",
     "output_type": "stream",
     "text": [
      "[ 0.21193469 -0.05223236  0.17344353 -0.23862602 -0.06849443  0.36626188\n",
      " -0.53614324  0.19463551  0.08893273 -0.26482651 -0.015665    0.45218559\n",
      "  0.34409202]\n",
      "{0: 0.9374999999999999, 1: -1.6275002256432431e-16, 2: 0.27120278694017763}\n",
      "{0: 0.8487367846929005, 1: 1.0, 2: -1.158134477196622e-16}\n",
      "{0: 1.0, 1: 0.39105675229473075, 2: 0.4436004098616696}\n",
      "13.057589946537538\n"
     ]
    }
   ],
   "source": [
    "print(Plot().current_info().dr.M[:, 0]) # print x-axis info for the current result\n",
    "print(Plot().current_info().w_tg) # print x-axis info for the current result\n",
    "print(Plot().current_info().w_bg) # print x-axis info for the current result\n",
    "print(Plot().current_info().w_bw) # print x-axis info for the current result\n",
    "print(Plot().current_info().alpha) # print x-axis info for the current result\n",
    "# print(Plot().saved_info()['PCA on Label 1'].dr.M[:, 0]) # print x-axis infor for the saved result"
   ]
  },
  {
   "cell_type": "code",
   "execution_count": 7,
   "metadata": {},
   "outputs": [
    {
     "data": {
      "text/html": [
       "\n",
       "        <iframe\n",
       "            width=\"100%\"\n",
       "            height=\"500px\"\n",
       "            src=\"http://localhost:8000/\"\n",
       "            frameborder=\"0\"\n",
       "            allowfullscreen\n",
       "        ></iframe>\n",
       "        "
      ],
      "text/plain": [
       "<IPython.lib.display.IFrame at 0x185538820>"
      ]
     },
     "execution_count": 7,
     "metadata": {},
     "output_type": "execute_result"
    }
   ],
   "source": [
    "# Common in Labels 1&2 but different from Label 0\n",
    "# (move Label 1 close to Label 2)\n",
    "\n",
    "# This is a produced parameter example (but rotation is not exactly the same)\n",
    "w_tg = {0: 0.8362787627856337, 1: 0.41704556470577103, 2: 0.8566001894111713}\n",
    "w_bg = {0: 0, 1: 0.9618254239294945, 2: 0.6878804303425374}\n",
    "w_bw = {0: 1.0, 1: 0.4456044544201703, 2: 0}\n",
    "alpha = 3.462280952336661\n",
    "ulca = ulca.fit(X, y=y, w_tg=w_tg, w_bg=w_bg, w_bw=w_bw, alpha=alpha)\n",
    "                \n",
    "Plot().plot_emb(ulca, X=X, y=y, w_tg=w_tg, w_bg=w_bg, w_bw=w_bw, feat_names=feat_names)"
   ]
  },
  {
   "cell_type": "markdown",
   "metadata": {},
   "source": [
    "Screenshot of the visualized result in UI\n",
    "![title](plot_image/wine2.png)"
   ]
  },
  {
   "cell_type": "code",
   "execution_count": 6,
   "metadata": {},
   "outputs": [
    {
     "data": {
      "text/html": [
       "\n",
       "        <iframe\n",
       "            width=\"100%\"\n",
       "            height=\"500px\"\n",
       "            src=\"http://localhost:8000/\"\n",
       "            frameborder=\"0\"\n",
       "            allowfullscreen\n",
       "        ></iframe>\n",
       "        "
      ],
      "text/plain": [
       "<IPython.lib.display.IFrame at 0x17ff563d0>"
      ]
     },
     "execution_count": 6,
     "metadata": {},
     "output_type": "execute_result"
    }
   ],
   "source": [
    "# high variance only in Label 2\n",
    "# Move sliders to be \n",
    "# w_tg = {0: 0, 1: 0, 2: 1}\n",
    "# w_bg = {0: 1, 1: 1, 2: 0}\n",
    "# w_bw = {0: 0, 1: 0, 2: 0}\n",
    "# alpha = 10\n",
    "\n",
    "# This produces the same result with the above interactions (but rotation is not exactly the same)\n",
    "w_tg = {0: 0, 1: 0, 2: 1}\n",
    "w_bg = {0: 1, 1: 1, 2: 0}\n",
    "w_bw = {0: 0, 1: 0, 2: 0}\n",
    "alpha = 10\n",
    "ulca = ulca.fit(X, y=y, w_tg=w_tg, w_bg=w_bg, w_bw=w_bw, alpha=alpha)\n",
    "\n",
    "Plot().plot_emb(ulca, X=X, y=y, w_tg=w_tg, w_bg=w_bg, w_bw=w_bw, feat_names=feat_names)"
   ]
  },
  {
   "cell_type": "markdown",
   "metadata": {},
   "source": [
    "Screenshot of the visualized result in UI\n",
    "![title](plot_image/wine3.png)"
   ]
  }
 ],
 "metadata": {
  "anaconda-cloud": {},
  "kernelspec": {
   "display_name": "Python 3",
   "language": "python",
   "name": "python3"
  },
  "language_info": {
   "codemirror_mode": {
    "name": "ipython",
    "version": 3
   },
   "file_extension": ".py",
   "mimetype": "text/x-python",
   "name": "python",
   "nbconvert_exporter": "python",
   "pygments_lexer": "ipython3",
   "version": "3.9.5"
  },
  "toc": {
   "nav_menu": {},
   "number_sections": true,
   "sideBar": true,
   "skip_h1_title": false,
   "toc_cell": false,
   "toc_position": {},
   "toc_section_display": "block",
   "toc_window_display": false
  }
 },
 "nbformat": 4,
 "nbformat_minor": 2
}
